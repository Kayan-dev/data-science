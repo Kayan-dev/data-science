{
 "cells": [
  {
   "cell_type": "code",
   "execution_count": 1,
   "metadata": {},
   "outputs": [],
   "source": [
    "import re\n",
    "import matplotlib.pyplot as plt\n",
    "import numpy as np\n",
    "\n",
    "class Article:\n",
    "    def __init__(self, dictionary):\n",
    "        for i, j in dictionary.items():\n",
    "            setattr(self, i, j)\n",
    "\n",
    "class Node:\n",
    "\tdef __init__(self, article=None, number=None, next=None):\n",
    "\t\tself.article = article\n",
    "\t\tself.number = number\n",
    "\t\tself.next = next\n",
    "\tdef __str__(self):\n",
    "\t\tif self.next != None:\n",
    "\t\t\treturn \"[{}, {}] -> {}\".format(self.article, self.number, self.next)\n",
    "\t\telse:\n",
    "\t\t\treturn \"[{}, {}]\".format(self.article, self.number)\n",
    "\tdef count(self):\n",
    "\t\tif self.next != None:\n",
    "\t\t\treturn self.number + self.next.count()\n",
    "\t\telse:\n",
    "\t\t\treturn self.number\n",
    "\n",
    "class LinkedList:\n",
    "\tdef __init__(self, article, word):\n",
    "\t\tself.head = Node(article, 0)\n",
    "\t\tself.currentNode = self.head\n",
    "\t\tself.word = word\n",
    "\tdef newNode(self, article):\n",
    "\t\tnode = Node(article, 0)\n",
    "\t\tif self.head.article == None:\n",
    "\t\t\tself.head = node\n",
    "\t\t\tself.currentNode = node\n",
    "\t\telse:\n",
    "\t\t\tself.currentNode.next = node\n",
    "\t\t\tself.currentNode = node\n",
    "\tdef show(self):\n",
    "\t\tprint(\"[{}] -> {}\".format(self.word, self.head))\n"
   ]
  },
  {
   "cell_type": "code",
   "execution_count": 3,
   "metadata": {},
   "outputs": [],
   "source": [
    "# initialize variables\n",
    "articles = []\n",
    "keys = []\n",
    "hashTable = {}\n",
    "histogramNumbers = []\n",
    "\n",
    "# read dataset\n",
    "collection = open('uva_text.txt', 'r')\n",
    "articles = collection.read()\n",
    "collection.close()\n",
    "\n",
    "# seperate articles into list\n",
    "articles = re.sub('<doc>', ' ', articles)\n",
    "articles = articles.split('</doc>')[:-1]"
   ]
  },
  {
   "cell_type": "code",
   "execution_count": 4,
   "metadata": {},
   "outputs": [],
   "source": [
    "for i in range(len(articles)):\n",
    "\t# Seperate article items based on tags\n",
    "\tarticles[i] = re.sub('<.?p>|</.*?>', ' ', articles[i])\n",
    "\tarticles[i] = re.sub('\\n', '', articles[i])\n",
    "\tarticles[i] = re.sub('> ', ' <', articles[i])\n",
    "\tarticles[i] = articles[i][2:]\n",
    "\tarticles[i] = articles[i].split(' <')\n",
    "\n",
    "\t# Create Article object of article items\n",
    "\ttempDict = {}\n",
    "\tfor j in range(0, len(articles[i]), 2):\n",
    "\t\ttempDict[articles[i][j]] = articles[i][j+1]\n",
    "\tarticles[i] = Article(tempDict)\n",
    "\n",
    "\t# define what items of article are used\n",
    "\ttempWords = \"\"\n",
    "\tfor j in vars(articles[i]).values():\n",
    "\t\ttempWords = tempWords + str(j)\n",
    "\n",
    "\t# lowercase and modify words to split into list\n",
    "\tkeys.append(tempWords.lower())\n",
    "\tkeys[i] = keys[i].replace(\"'s\", \"\")\n",
    "\tkeys[i] = keys[i].replace(\"' \", \"\")\n",
    "\tkeys[i] = keys[i].replace(\" '\", \"\")\n",
    "\tkeys[i] = re.sub(r'[;|-|_|:|<|>|(|)|+|/|*|\"|?|!|.|,|(|)]', r'', keys[i])\n",
    "\tkeys[i] = keys[i].split()"
   ]
  },
  {
   "cell_type": "code",
   "execution_count": 6,
   "metadata": {},
   "outputs": [
    {
     "data": {
      "text/plain": [
       "'LA010189-0032 74 January 1, 1989, Sunday, Home Edition  Business; Part 4; Page 3; Column 1; Financial Desk  1299 words  VIEWPOINTS;   \\'89 WISH LIST: PROTECTION, TAXES AND PEACE;   SOCIAL BENEFITS, DEFICIT REDUCTION ARE TOP PRIORITIES FOR THE NEW YEAR  What changes would you like to see in business practices and the workplace this year? How can business leaders and economic policy-makers improve the economy and the world in general in 1989? The Times ran these questions by people in various walks of life, and here are some of their answers:     Muriel Siebert, head of the Muriel Siebert &amp; Co. discount brokerage in New York, and first female member of the New York Stock Exchange:   \"I would like to see certain business practices regulated. I think that the leveraged buyouts show the greed of people at their worst. . . . The LBOs are bypassing the purpose of the capital-raising system. I think that to the extent that people were stockholders in these companies . . . they should be allowed to continue to have some kind of share in the profits (after the leveraged buyouts) because these moves were done while they were stockholders.   \"Must greed be the creed? I would like to see that also rolled over to our defense contractors. I am pro defense. I believe in a strong country because people mistake gentility for weakness. If (contractors) cheat on defense contracts, I don\\'t see why they don\\'t go to jail. . . . I just feel that if you are a major defense contractor, you owe a fiduciary responsibility to this country because defense expenditures are putting a pretty big toll on the country.\"   Andrew Brimmer, former member of the Federal Reserve Board and head of a Washington economics consulting firm:   \"My leading wish is that the nation deal with the federal budget deficit. I would like to see a substantial reduction in 1989 and extending over the next three years. I would strongly recommend that we raise taxes. There should be some moderation in the level of government expenditures, but the real problem is the lag in revenue.   \"I also would like to see more done for education by business. The kind of education I\\'m talking about is at the elementary and secondary level. Businesses are already contributing to colleges. Businesses should do likewise for elementary and secondary schools. Business people can play a role as counselors and teachers. A firm might make available an engineer or mathematician to go into schools and teach. Business should do more to offer on-the-job training for unskilled, or limited-skills, people, perhaps through a (lower) learning wage. We would give business tax credits to do this.\"   William R. Robertson, executive secretary of the Los Angeles County Federation of Labor, AFL-CIO:   \"I would like to see a change in philosophy by the incoming President relating to labor relations and providing for fairness in our (labor) organizing efforts and contract negotiations. . . .   \"I would also like to see some protection for workers losing their jobs because of mergers. It is a national disgrace. In too many mergers, the workers are the ones that suffer and the country as well. Something should be done to correct it. . . .   \"And, finally, this Administration should face reality in resolving the astronomical deficit.\"   Steven D. Lydenberg, an associate with the \"socially responsible\" investment firm of Franklin Research &amp; Development:   \"There is an increasing interest around the country in social investing. People want to know not just the financial implications of making a commitment in a company, but also the social implication. That information is not very easy to come by.   \"So, if at the end of \\'89 corporations were disclosing in a uniform way their yield figures, their charitable contribution figures, the numbers of women and minorities in top management and board directors, their attitude on a number of comparable social issues, I would be very happy.\"   Frank Borman, chairman of Patlex Corp. of Chatsworth, former astronaut and former chairman of Eastern Airlines:   \"We should begin to move toward taxing consumption -- a value-added tax. This is quite controversial as Al Ullman (Oregon Democrat and former chairman of the House Ways and Means Committee, who was defeated in 1988 after advocating a value-added tax) will tell you. But this taxing system is needed. It would certainly help our exports. Almost all of Europe is under the value-added taxing system. Also, it may encourage saving instead of consumption. One of the ways you discourage consumption is to tax it.\"   Michael Harrington, co-chair of Democratic Socialists of America and author of \"The Other America\" and \"The New American Poverty\":   \"I hope Secretary of State Baker will build on the basic insights of former Treasury Secretary Baker (James Baker, former treasury secretary, was nominated by President-elect Bush to be Secretary of State) that a settlement of Third World debt is in the self-interest of America, opening up markets for business and labor. But then the new Baker will have to go far beyond the old, since Latin America now owes more than it did in 1982 when the crisis officially began, and several countries, including Argentina and Brazil, may see democracy subverted if current trends persist.   \"At home, the nation must recognize that we can\\'t waste young people, and particularly minorities and women, on illiteracy, unemployment and unproductive low-wage work. We must invest mightily in education, training and job generation.\"   Alan Bromberg, a securities law expert and professor at Southern Methodist University:   \"There are several things I would like most to see changed in the economy and business practices. One, more concentration by business and government, both here and abroad, on . . . the facilitation of international trade and investment. This would require wider horizons for business people . . . and more effort by government to reduce and ultimately eliminate all kinds of restrictions on the movement of products.   \"Two, I would like to see a national consensus developed, preferably in the form of federal legislation, on corporate takeovers and buyouts that would recognize the efficiencies and benefits they bring as well as the dislocations and hardships they can cause. This would involve tax policies and labor polices and limitations on the ability of states to Balkanize corporate law by different anti-takeover statutes everywhere. (There also should be) some kind of limitation on management self-entrenchment and self-enrichment.   \"I think we could use a lot of clarification of the securities laws. I think the courts have done a good job of saying what insider trading is. The kind of issues that are most difficult are what really is parking (of stock)? How much cooperation or similar action by different individuals or different groups of individuals makes it collaboration? These issues haven\\'t been well resolved. . . .   Peter Bahouth, executive director of Greenpeace in Washington:   \"People now view threats to human security less in terms of political threats and more in environmental and economic terms. So for my wish list, I would ask first that we deal with the issue of the greenhouse effect. We better develop some alternative views in mass transportation and cut subsidies to reflect the true cost of fossil fuels in terms of pollution, along with the actual economic cost of development. Then, we could put more money into research and development of wind and solar energy.   \"(Also on my wish list is) peace on earth. If we want peace on earth, we have to start looking seriously at the fact that we are making more and more weapons, and in a process which endangers the health of American people. . . . Production plants have been proven to have released into the air and water radioactivity and toxic chemicals.\"   \"Also, it would be nice if we could learn that the rain forest affects all of us. We need to preserve it. And we would like the tuna industry to stop killing dolphins.\"  Drawing, JILL BANASHEK / for The Times   '"
      ]
     },
     "execution_count": 6,
     "metadata": {},
     "output_type": "execute_result"
    }
   ],
   "source": [
    "tempWords"
   ]
  },
  {
   "cell_type": "code",
   "execution_count": null,
   "metadata": {},
   "outputs": [],
   "source": []
  }
 ],
 "metadata": {
  "kernelspec": {
   "display_name": "Python 3",
   "language": "python",
   "name": "python3"
  },
  "language_info": {
   "codemirror_mode": {
    "name": "ipython",
    "version": 3
   },
   "file_extension": ".py",
   "mimetype": "text/x-python",
   "name": "python",
   "nbconvert_exporter": "python",
   "pygments_lexer": "ipython3",
   "version": "3.8.5"
  }
 },
 "nbformat": 4,
 "nbformat_minor": 4
}
